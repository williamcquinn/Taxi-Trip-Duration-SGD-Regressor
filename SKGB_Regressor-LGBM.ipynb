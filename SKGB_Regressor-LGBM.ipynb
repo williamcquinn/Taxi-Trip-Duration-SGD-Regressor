{
 "cells": [
  {
   "cell_type": "code",
   "execution_count": 1,
   "id": "8c11e02a",
   "metadata": {},
   "outputs": [
    {
     "data": {
      "text/html": [
       "<style type='text/css'>\n",
       ".datatable table.frame { margin-bottom: 0; }\n",
       ".datatable table.frame thead { border-bottom: none; }\n",
       ".datatable table.frame tr.coltypes td {  color: #FFFFFF;  line-height: 6px;  padding: 0 0.5em;}\n",
       ".datatable .bool    { background: #DDDD99; }\n",
       ".datatable .object  { background: #565656; }\n",
       ".datatable .int     { background: #5D9E5D; }\n",
       ".datatable .float   { background: #4040CC; }\n",
       ".datatable .str     { background: #CC4040; }\n",
       ".datatable .row_index {  background: var(--jp-border-color3);  border-right: 1px solid var(--jp-border-color0);  color: var(--jp-ui-font-color3);  font-size: 9px;}\n",
       ".datatable .frame tr.coltypes .row_index {  background: var(--jp-border-color0);}\n",
       ".datatable th:nth-child(2) { padding-left: 12px; }\n",
       ".datatable .hellipsis {  color: var(--jp-cell-editor-border-color);}\n",
       ".datatable .vellipsis {  background: var(--jp-layout-color0);  color: var(--jp-cell-editor-border-color);}\n",
       ".datatable .na {  color: var(--jp-cell-editor-border-color);  font-size: 80%;}\n",
       ".datatable .footer { font-size: 9px; }\n",
       ".datatable .frame_dimensions {  background: var(--jp-border-color3);  border-top: 1px solid var(--jp-border-color0);  color: var(--jp-ui-font-color3);  display: inline-block;  opacity: 0.6;  padding: 1px 10px 1px 5px;}\n",
       "</style>\n"
      ],
      "text/plain": [
       "<IPython.core.display.HTML object>"
      ]
     },
     "metadata": {},
     "output_type": "display_data"
    }
   ],
   "source": [
    "import pandas as pd\n",
    "import matplotlib.pyplot as plt\n",
    "import seaborn as sns\n",
    "import pyrsm as rsm\n",
    "import numpy as np\n",
    "import datetime\n",
    "import lightgbm as lgbm\n",
    "from sklearn.model_selection import StratifiedKFold\n",
    "from sklearn.decomposition import PCA\n",
    "from sklearn.preprocessing import LabelEncoder\n",
    "from sklearn.metrics import mean_squared_error as mse\n",
    "import gc\n",
    "import os\n",
    "        \n",
    "RANDOM_SEED = 42"
   ]
  },
  {
   "cell_type": "code",
   "execution_count": 2,
   "id": "1cae9ff8",
   "metadata": {},
   "outputs": [],
   "source": [
    "train = pd.read_csv('train.csv')\n",
    "test = pd.read_csv('test.csv')"
   ]
  },
  {
   "cell_type": "code",
   "execution_count": 3,
   "id": "e7737989",
   "metadata": {},
   "outputs": [
    {
     "data": {
      "text/html": [
       "<div>\n",
       "<style scoped>\n",
       "    .dataframe tbody tr th:only-of-type {\n",
       "        vertical-align: middle;\n",
       "    }\n",
       "\n",
       "    .dataframe tbody tr th {\n",
       "        vertical-align: top;\n",
       "    }\n",
       "\n",
       "    .dataframe thead th {\n",
       "        text-align: right;\n",
       "    }\n",
       "</style>\n",
       "<table border=\"1\" class=\"dataframe\">\n",
       "  <thead>\n",
       "    <tr style=\"text-align: right;\">\n",
       "      <th></th>\n",
       "      <th>id</th>\n",
       "      <th>vendor_id</th>\n",
       "      <th>pickup_datetime</th>\n",
       "      <th>dropoff_datetime</th>\n",
       "      <th>passenger_count</th>\n",
       "      <th>pickup_longitude</th>\n",
       "      <th>pickup_latitude</th>\n",
       "      <th>dropoff_longitude</th>\n",
       "      <th>dropoff_latitude</th>\n",
       "      <th>store_and_fwd_flag</th>\n",
       "      <th>trip_duration</th>\n",
       "    </tr>\n",
       "  </thead>\n",
       "  <tbody>\n",
       "    <tr>\n",
       "      <th>0</th>\n",
       "      <td>id2875421</td>\n",
       "      <td>2</td>\n",
       "      <td>2016-03-14 17:24:55</td>\n",
       "      <td>2016-03-14 17:32:30</td>\n",
       "      <td>1</td>\n",
       "      <td>-73.982155</td>\n",
       "      <td>40.767937</td>\n",
       "      <td>-73.964630</td>\n",
       "      <td>40.765602</td>\n",
       "      <td>N</td>\n",
       "      <td>455</td>\n",
       "    </tr>\n",
       "    <tr>\n",
       "      <th>1</th>\n",
       "      <td>id2377394</td>\n",
       "      <td>1</td>\n",
       "      <td>2016-06-12 00:43:35</td>\n",
       "      <td>2016-06-12 00:54:38</td>\n",
       "      <td>1</td>\n",
       "      <td>-73.980415</td>\n",
       "      <td>40.738564</td>\n",
       "      <td>-73.999481</td>\n",
       "      <td>40.731152</td>\n",
       "      <td>N</td>\n",
       "      <td>663</td>\n",
       "    </tr>\n",
       "    <tr>\n",
       "      <th>2</th>\n",
       "      <td>id3858529</td>\n",
       "      <td>2</td>\n",
       "      <td>2016-01-19 11:35:24</td>\n",
       "      <td>2016-01-19 12:10:48</td>\n",
       "      <td>1</td>\n",
       "      <td>-73.979027</td>\n",
       "      <td>40.763939</td>\n",
       "      <td>-74.005333</td>\n",
       "      <td>40.710087</td>\n",
       "      <td>N</td>\n",
       "      <td>2124</td>\n",
       "    </tr>\n",
       "    <tr>\n",
       "      <th>3</th>\n",
       "      <td>id3504673</td>\n",
       "      <td>2</td>\n",
       "      <td>2016-04-06 19:32:31</td>\n",
       "      <td>2016-04-06 19:39:40</td>\n",
       "      <td>1</td>\n",
       "      <td>-74.010040</td>\n",
       "      <td>40.719971</td>\n",
       "      <td>-74.012268</td>\n",
       "      <td>40.706718</td>\n",
       "      <td>N</td>\n",
       "      <td>429</td>\n",
       "    </tr>\n",
       "    <tr>\n",
       "      <th>4</th>\n",
       "      <td>id2181028</td>\n",
       "      <td>2</td>\n",
       "      <td>2016-03-26 13:30:55</td>\n",
       "      <td>2016-03-26 13:38:10</td>\n",
       "      <td>1</td>\n",
       "      <td>-73.973053</td>\n",
       "      <td>40.793209</td>\n",
       "      <td>-73.972923</td>\n",
       "      <td>40.782520</td>\n",
       "      <td>N</td>\n",
       "      <td>435</td>\n",
       "    </tr>\n",
       "  </tbody>\n",
       "</table>\n",
       "</div>"
      ],
      "text/plain": [
       "          id  vendor_id      pickup_datetime     dropoff_datetime  \\\n",
       "0  id2875421          2  2016-03-14 17:24:55  2016-03-14 17:32:30   \n",
       "1  id2377394          1  2016-06-12 00:43:35  2016-06-12 00:54:38   \n",
       "2  id3858529          2  2016-01-19 11:35:24  2016-01-19 12:10:48   \n",
       "3  id3504673          2  2016-04-06 19:32:31  2016-04-06 19:39:40   \n",
       "4  id2181028          2  2016-03-26 13:30:55  2016-03-26 13:38:10   \n",
       "\n",
       "   passenger_count  pickup_longitude  pickup_latitude  dropoff_longitude  \\\n",
       "0                1        -73.982155        40.767937         -73.964630   \n",
       "1                1        -73.980415        40.738564         -73.999481   \n",
       "2                1        -73.979027        40.763939         -74.005333   \n",
       "3                1        -74.010040        40.719971         -74.012268   \n",
       "4                1        -73.973053        40.793209         -73.972923   \n",
       "\n",
       "   dropoff_latitude store_and_fwd_flag  trip_duration  \n",
       "0         40.765602                  N            455  \n",
       "1         40.731152                  N            663  \n",
       "2         40.710087                  N           2124  \n",
       "3         40.706718                  N            429  \n",
       "4         40.782520                  N            435  "
      ]
     },
     "execution_count": 3,
     "metadata": {},
     "output_type": "execute_result"
    }
   ],
   "source": [
    "train.head()"
   ]
  },
  {
   "cell_type": "code",
   "execution_count": 4,
   "id": "0740c0a7",
   "metadata": {},
   "outputs": [
    {
     "data": {
      "text/html": [
       "<div>\n",
       "<style scoped>\n",
       "    .dataframe tbody tr th:only-of-type {\n",
       "        vertical-align: middle;\n",
       "    }\n",
       "\n",
       "    .dataframe tbody tr th {\n",
       "        vertical-align: top;\n",
       "    }\n",
       "\n",
       "    .dataframe thead th {\n",
       "        text-align: right;\n",
       "    }\n",
       "</style>\n",
       "<table border=\"1\" class=\"dataframe\">\n",
       "  <thead>\n",
       "    <tr style=\"text-align: right;\">\n",
       "      <th></th>\n",
       "      <th>id</th>\n",
       "      <th>vendor_id</th>\n",
       "      <th>pickup_datetime</th>\n",
       "      <th>passenger_count</th>\n",
       "      <th>pickup_longitude</th>\n",
       "      <th>pickup_latitude</th>\n",
       "      <th>dropoff_longitude</th>\n",
       "      <th>dropoff_latitude</th>\n",
       "      <th>store_and_fwd_flag</th>\n",
       "    </tr>\n",
       "  </thead>\n",
       "  <tbody>\n",
       "    <tr>\n",
       "      <th>0</th>\n",
       "      <td>id3004672</td>\n",
       "      <td>1</td>\n",
       "      <td>2016-06-30 23:59:58</td>\n",
       "      <td>1</td>\n",
       "      <td>-73.988129</td>\n",
       "      <td>40.732029</td>\n",
       "      <td>-73.990173</td>\n",
       "      <td>40.756680</td>\n",
       "      <td>N</td>\n",
       "    </tr>\n",
       "    <tr>\n",
       "      <th>1</th>\n",
       "      <td>id3505355</td>\n",
       "      <td>1</td>\n",
       "      <td>2016-06-30 23:59:53</td>\n",
       "      <td>1</td>\n",
       "      <td>-73.964203</td>\n",
       "      <td>40.679993</td>\n",
       "      <td>-73.959808</td>\n",
       "      <td>40.655403</td>\n",
       "      <td>N</td>\n",
       "    </tr>\n",
       "    <tr>\n",
       "      <th>2</th>\n",
       "      <td>id1217141</td>\n",
       "      <td>1</td>\n",
       "      <td>2016-06-30 23:59:47</td>\n",
       "      <td>1</td>\n",
       "      <td>-73.997437</td>\n",
       "      <td>40.737583</td>\n",
       "      <td>-73.986160</td>\n",
       "      <td>40.729523</td>\n",
       "      <td>N</td>\n",
       "    </tr>\n",
       "    <tr>\n",
       "      <th>3</th>\n",
       "      <td>id2150126</td>\n",
       "      <td>2</td>\n",
       "      <td>2016-06-30 23:59:41</td>\n",
       "      <td>1</td>\n",
       "      <td>-73.956070</td>\n",
       "      <td>40.771900</td>\n",
       "      <td>-73.986427</td>\n",
       "      <td>40.730469</td>\n",
       "      <td>N</td>\n",
       "    </tr>\n",
       "    <tr>\n",
       "      <th>4</th>\n",
       "      <td>id1598245</td>\n",
       "      <td>1</td>\n",
       "      <td>2016-06-30 23:59:33</td>\n",
       "      <td>1</td>\n",
       "      <td>-73.970215</td>\n",
       "      <td>40.761475</td>\n",
       "      <td>-73.961510</td>\n",
       "      <td>40.755890</td>\n",
       "      <td>N</td>\n",
       "    </tr>\n",
       "  </tbody>\n",
       "</table>\n",
       "</div>"
      ],
      "text/plain": [
       "          id  vendor_id      pickup_datetime  passenger_count  \\\n",
       "0  id3004672          1  2016-06-30 23:59:58                1   \n",
       "1  id3505355          1  2016-06-30 23:59:53                1   \n",
       "2  id1217141          1  2016-06-30 23:59:47                1   \n",
       "3  id2150126          2  2016-06-30 23:59:41                1   \n",
       "4  id1598245          1  2016-06-30 23:59:33                1   \n",
       "\n",
       "   pickup_longitude  pickup_latitude  dropoff_longitude  dropoff_latitude  \\\n",
       "0        -73.988129        40.732029         -73.990173         40.756680   \n",
       "1        -73.964203        40.679993         -73.959808         40.655403   \n",
       "2        -73.997437        40.737583         -73.986160         40.729523   \n",
       "3        -73.956070        40.771900         -73.986427         40.730469   \n",
       "4        -73.970215        40.761475         -73.961510         40.755890   \n",
       "\n",
       "  store_and_fwd_flag  \n",
       "0                  N  \n",
       "1                  N  \n",
       "2                  N  \n",
       "3                  N  \n",
       "4                  N  "
      ]
     },
     "execution_count": 4,
     "metadata": {},
     "output_type": "execute_result"
    }
   ],
   "source": [
    "test.head()"
   ]
  },
  {
   "cell_type": "code",
   "execution_count": 5,
   "id": "0ed80bde",
   "metadata": {},
   "outputs": [],
   "source": [
    "train['pickupDateTime'] = pd.to_datetime(train['pickup_datetime'])\n",
    "train['dropoffDateTime'] = pd.to_datetime(train['dropoff_datetime'])\n",
    "train['tripDuration'] = (train['dropoffDateTime'] - train['pickupDateTime']).dt.total_seconds()/60\n",
    "train['pickupDay'] = train['pickupDateTime'].dt.day\n",
    "train['pickupHour'] = train['pickupDateTime'].dt.hour\n",
    "train['weekDay'] = train['pickupDateTime'].dt.weekday\n",
    "train['weekDay2'] = train['pickupDateTime'].dt.strftime('%A')\n",
    "\n",
    "train.drop(['dropoffDateTime'],axis=1,inplace=True)\n",
    "train.drop(['pickupDateTime'],axis=1,inplace=True)\n",
    "train.drop(['dropoff_datetime'],axis=1,inplace=True)\n",
    "train.drop(['pickup_datetime'],axis=1,inplace=True)\n",
    "\n",
    "\n",
    "\n",
    "test['pickupDateTime'] = pd.to_datetime(test['pickup_datetime'])\n",
    "# test['dropoffDateTime'] = pd.to_datetime(test['dropoff_datetime'])\n",
    "# test['tripDuration'] = (test['dropoffDateTime'] - test['pickupDateTime']).dt.total_seconds()/60\n",
    "test['pickupDay'] = test['pickupDateTime'].dt.day\n",
    "# test['pickupDate'] = test['pickupDateTime'].dt.date\n",
    "\n",
    "test['pickupHour'] = test['pickupDateTime'].dt.hour\n",
    "test['weekDay'] = test['pickupDateTime'].dt.weekday\n",
    "test['weekDay2'] = test['pickupDateTime'].dt.strftime('%A')\n",
    "\n",
    "\n",
    "# test.drop(['dropoffDateTime'],axis=1,inplace=True)\n",
    "test.drop(['pickupDateTime'],axis=1,inplace=True)\n",
    "# test.drop(['dropoff_datetime'],axis=1,inplace=True)\n",
    "test.drop(['pickup_datetime'],axis=1,inplace=True)"
   ]
  },
  {
   "cell_type": "code",
   "execution_count": 6,
   "id": "69b0d584",
   "metadata": {},
   "outputs": [
    {
     "data": {
      "image/png": "[encoded data removed]",
      "text/plain": [
       "<Figure size 648x288 with 1 Axes>"
      ]
     },
     "metadata": {
      "needs_background": "light"
     },
     "output_type": "display_data"
    }
   ],
   "source": [
    "plt.figure(figsize=(9, 4))\n",
    "pl = sns.countplot(x='pickupDay', data=train,color='green')\n",
    "pl.set(title='Taxi Pickups by Day of Month', xlabel = 'Day')\n",
    "plt.show()"
   ]
  },
  {
   "cell_type": "code",
   "execution_count": 7,
   "id": "b3868fa6",
   "metadata": {},
   "outputs": [
    {
     "data": {
      "image/png": "[encoded data removed]",
      "text/plain": [
       "<Figure size 648x288 with 1 Axes>"
      ]
     },
     "metadata": {
      "needs_background": "light"
     },
     "output_type": "display_data"
    }
   ],
   "source": [
    "plt.figure(figsize=(9, 4))\n",
    "pl = sns.countplot(x='pickupHour', data=train,color='green')\n",
    "pl.set(title='Taxi Pickups by Hour of Day', xlabel = 'Hour')\n",
    "plt.show()"
   ]
  },
  {
   "cell_type": "code",
   "execution_count": 8,
   "id": "e346f08d",
   "metadata": {},
   "outputs": [
    {
     "data": {
      "image/png": "[encoded data removed]",
      "text/plain": [
       "<Figure size 648x288 with 1 Axes>"
      ]
     },
     "metadata": {
      "needs_background": "light"
     },
     "output_type": "display_data"
    }
   ],
   "source": [
    "plt.figure(figsize=(9, 4))\n",
    "weekDayOrder = ['Monday','Tuesday','Wednesday','Thursday','Friday','Saturday','Sunday']\n",
    "pl = sns.countplot(x='weekDay2', data=train, order=weekDayOrder,color='green')\n",
    "pl.set(title='Taxi Pickups by Weekday', xlabel = 'Day of Week')\n",
    "plt.show()"
   ]
  },
  {
   "cell_type": "code",
   "execution_count": 9,
   "id": "ce5777b4",
   "metadata": {},
   "outputs": [
    {
     "data": {
      "image/png": "[encoded data removed]",
      "text/plain": [
       "<Figure size 648x288 with 1 Axes>"
      ]
     },
     "metadata": {
      "needs_background": "light"
     },
     "output_type": "display_data"
    }
   ],
   "source": [
    "plt.figure(figsize=(9, 4))\n",
    "maxDur = 120   \n",
    "pl = sns.histplot(data=train[(train.tripDuration <= maxDur) & (train.tripDuration > 0)], x='tripDuration',color='green',bins=100)\n",
    "pl.set(title='Distribution of Trip Durations', xlabel = 'Minutes')\n",
    "plt.show()"
   ]
  },
  {
   "cell_type": "code",
   "execution_count": 10,
   "id": "040604ed",
   "metadata": {},
   "outputs": [
    {
     "data": {
      "image/png": "[encoded data removed]",
      "text/plain": [
       "<Figure size 648x288 with 1 Axes>"
      ]
     },
     "metadata": {
      "needs_background": "light"
     },
     "output_type": "display_data"
    }
   ],
   "source": [
    "#Log-transformation\n",
    "train['trip_duration'] = np.log(train['tripDuration'].values)\n",
    "plt.figure(figsize=(9, 4))\n",
    "# maxDur = 120   \n",
    "pl = sns.histplot(data=train, x='trip_duration',color='green',bins=100)\n",
    "pl.set(title='Distribution of Trip Durations', xlabel = 'Minutes')\n",
    "plt.show()\n"
   ]
  },
  {
   "cell_type": "code",
   "execution_count": 11,
   "id": "0d862e69",
   "metadata": {},
   "outputs": [],
   "source": [
    "#One-hot encoding binary categorical features\n",
    "train = pd.concat([train, pd.get_dummies(train['store_and_fwd_flag'])], axis=1)\n",
    "test = pd.concat([test, pd.get_dummies(test['store_and_fwd_flag'])], axis=1)\n",
    "\n",
    "\n",
    "\n",
    "train = pd.concat([train, pd.get_dummies(train['vendor_id'])], axis=1)\n",
    "test = pd.concat([test, pd.get_dummies(test['vendor_id'])], axis=1)\n",
    "\n",
    "train.drop(['store_and_fwd_flag'], axis=1, inplace=True)\n",
    "train.drop(['vendor_id'], axis=1, inplace=True)\n",
    "test.drop(['store_and_fwd_flag'], axis=1, inplace=True)\n",
    "test.drop(['vendor_id'], axis=1, inplace=True)"
   ]
  },
  {
   "cell_type": "code",
   "execution_count": 12,
   "id": "bb8896eb",
   "metadata": {},
   "outputs": [],
   "source": [
    "#Function aiming at calculating distances from coordinates\n",
    "def ft_haversine_distance(lat1, lng1, lat2, lng2):\n",
    "    lat1, lng1, lat2, lng2 = map(np.radians, (lat1, lng1, lat2, lng2))\n",
    "    AVG_EARTH_RADIUS = 6371 #km\n",
    "    lat = lat2 - lat1\n",
    "    lng = lng2 - lng1\n",
    "    d = np.sin(lat * 0.5) ** 2 + np.cos(lat1) * np.cos(lat2) * np.sin(lng * 0.5) ** 2\n",
    "    h = 2 * AVG_EARTH_RADIUS * np.arcsin(np.sqrt(d))\n",
    "    return h\n",
    "\n",
    "#Add distance feature\n",
    "train['distance'] = ft_haversine_distance(train['pickup_latitude'].values,\n",
    "                                                 train['pickup_longitude'].values, \n",
    "                                                 train['dropoff_latitude'].values,\n",
    "                                                 train['dropoff_longitude'].values)\n",
    "test['distance'] = ft_haversine_distance(test['pickup_latitude'].values, \n",
    "                                                test['pickup_longitude'].values, \n",
    "                                                test['dropoff_latitude'].values, \n",
    "                                                test['dropoff_longitude'].values)"
   ]
  },
  {
   "cell_type": "code",
   "execution_count": 13,
   "id": "502e967a",
   "metadata": {},
   "outputs": [],
   "source": [
    "def ft_degree(lat1, lng1, lat2, lng2):\n",
    "    AVG_EARTH_RADIUS = 6371 #km\n",
    "    lng_delta_rad = np.radians(lng2 - lng1)\n",
    "    lat1, lng1, lat2, lng2 = map(np.radians, (lat1, lng1, lat2, lng2))\n",
    "    y = np.sin(lng_delta_rad) * np.cos(lat2)\n",
    "    x = np.cos(lat1) * np.sin(lat2) - np.sin(lat1) * np.cos(lat2) * np.cos(lng_delta_rad)\n",
    "    return np.degrees(np.arctan2(y, x))\n",
    "\n",
    "#Add direction feature\n",
    "train['direction'] = ft_degree(train['pickup_latitude'].values,\n",
    "                                train['pickup_longitude'].values,\n",
    "                                train['dropoff_latitude'].values,\n",
    "                                train['dropoff_longitude'].values)\n",
    "test['direction'] = ft_degree(test['pickup_latitude'].values,\n",
    "                                  test['pickup_longitude'].values, \n",
    "                                  test['dropoff_latitude'].values,\n",
    "                                  test['dropoff_longitude'].values)"
   ]
  },
  {
   "cell_type": "code",
   "execution_count": 14,
   "id": "9f78344a",
   "metadata": {},
   "outputs": [
    {
     "data": {
      "text/plain": [
       "<AxesSubplot:>"
      ]
     },
     "execution_count": 14,
     "metadata": {},
     "output_type": "execute_result"
    },
    {
     "data": {
      "image/png": "[encoded data removed]",
      "text/plain": [
       "<Figure size 432x288 with 1 Axes>"
      ]
     },
     "metadata": {
      "needs_background": "light"
     },
     "output_type": "display_data"
    }
   ],
   "source": [
    "#Visualize distance outliers\n",
    "train.boxplot(column='distance', return_type='axes')"
   ]
  },
  {
   "cell_type": "code",
   "execution_count": 15,
   "id": "e033269f",
   "metadata": {},
   "outputs": [],
   "source": [
    "train = train[(train.distance < 200)]"
   ]
  },
  {
   "cell_type": "code",
   "execution_count": 16,
   "id": "3eef6a42",
   "metadata": {},
   "outputs": [],
   "source": [
    "train['speed'] = train.distance / train.tripDuration"
   ]
  },
  {
   "cell_type": "code",
   "execution_count": 17,
   "id": "0e8db38b",
   "metadata": {},
   "outputs": [
    {
     "data": {
      "text/plain": [
       "<AxesSubplot:>"
      ]
     },
     "execution_count": 17,
     "metadata": {},
     "output_type": "execute_result"
    },
    {
     "data": {
      "image/png": "[encoded data removed]",
      "text/plain": [
       "<Figure size 432x288 with 1 Axes>"
      ]
     },
     "metadata": {
      "needs_background": "light"
     },
     "output_type": "display_data"
    }
   ],
   "source": [
    "train.boxplot(column='speed', return_type='axes')"
   ]
  },
  {
   "cell_type": "code",
   "execution_count": 18,
   "id": "3e7a5984",
   "metadata": {},
   "outputs": [],
   "source": [
    "train = train[(train.speed < 30)]\n",
    "train.drop(['speed'], axis=1, inplace=True)"
   ]
  },
  {
   "cell_type": "code",
   "execution_count": 19,
   "id": "cce6ee76",
   "metadata": {},
   "outputs": [
    {
     "data": {
      "image/png": "[encoded data removed]",
      "text/plain": [
       "<Figure size 1008x360 with 2 Axes>"
      ]
     },
     "metadata": {
      "needs_background": "light"
     },
     "output_type": "display_data"
    }
   ],
   "source": [
    "#Correlations between variables\n",
    "fig, ax = plt.subplots(figsize=(14,5))  \n",
    "sns.heatmap(data=train.corr(), annot=True, cmap = plt.cm.RdYlBu_r, linewidths=.1, ax=ax).set_title('Correlations between variables');"
   ]
  },
  {
   "cell_type": "code",
   "execution_count": 20,
   "id": "73cfde5a",
   "metadata": {},
   "outputs": [
    {
     "data": {
      "text/plain": [
       "((1458632, 14), (1458632,))"
      ]
     },
     "execution_count": 20,
     "metadata": {},
     "output_type": "execute_result"
    }
   ],
   "source": [
    "#Split the labeled data frame into two sets: features and target\n",
    "\n",
    "y = train[\"trip_duration\"]\n",
    "train.drop([\"trip_duration\"], axis=1, inplace=True)\n",
    "train.drop(['id'], axis=1, inplace=True)\n",
    "train.drop([\"weekDay2\"], axis=1, inplace=True)\n",
    "test.drop([\"weekDay2\"], axis=1, inplace=True)\n",
    "train.drop([\"tripDuration\"], axis=1, inplace=True)\n",
    "X = train\n",
    "\n",
    "X.shape, y.shape"
   ]
  },
  {
   "cell_type": "code",
   "execution_count": 21,
   "id": "95b9ace1",
   "metadata": {},
   "outputs": [
    {
     "data": {
      "text/plain": [
       "((1166905, 14), (1166905,), (291727, 14), (291727,))"
      ]
     },
     "execution_count": 21,
     "metadata": {},
     "output_type": "execute_result"
    }
   ],
   "source": [
    "#Split the labeled data frame into two sets to train then test the models\n",
    "from sklearn.model_selection import train_test_split\n",
    "\n",
    "X_train, X_valid, y_train, y_valid = train_test_split(X, y, test_size=0.2, random_state=42)\n",
    "\n",
    "X_train.shape, y_train.shape, X_valid.shape, y_valid.shape"
   ]
  },
  {
   "cell_type": "code",
   "execution_count": 22,
   "id": "579a77b8",
   "metadata": {},
   "outputs": [],
   "source": [
    "from sklearn.metrics import mean_squared_error as MSE"
   ]
  },
  {
   "cell_type": "code",
   "execution_count": 24,
   "id": "66b30899",
   "metadata": {},
   "outputs": [
    {
     "name": "stdout",
     "output_type": "stream",
     "text": [
      "0.705142889253261 0.706315543380472\n",
      "0.43288700300429533\n"
     ]
    }
   ],
   "source": [
    "#GradientBoosting\n",
    "\n",
    "from sklearn.ensemble import GradientBoostingRegressor\n",
    "\n",
    "gb = GradientBoostingRegressor()\n",
    "gb.fit(X_train, y_train)\n",
    "print(gb.score(X_train, y_train), gb.score(X_valid, y_valid))\n",
    "print(np.sqrt(MSE(y_valid, gb.predict(X_valid))))\n",
    "    "
   ]
  },
  {
   "cell_type": "code",
   "execution_count": 25,
   "id": "2353126e",
   "metadata": {},
   "outputs": [
    {
     "data": {
      "text/html": [
       "<div>\n",
       "<style scoped>\n",
       "    .dataframe tbody tr th:only-of-type {\n",
       "        vertical-align: middle;\n",
       "    }\n",
       "\n",
       "    .dataframe tbody tr th {\n",
       "        vertical-align: top;\n",
       "    }\n",
       "\n",
       "    .dataframe thead th {\n",
       "        text-align: right;\n",
       "    }\n",
       "</style>\n",
       "<table border=\"1\" class=\"dataframe\">\n",
       "  <thead>\n",
       "    <tr style=\"text-align: right;\">\n",
       "      <th></th>\n",
       "      <th>passenger_count</th>\n",
       "      <th>pickup_longitude</th>\n",
       "      <th>pickup_latitude</th>\n",
       "      <th>dropoff_longitude</th>\n",
       "      <th>dropoff_latitude</th>\n",
       "      <th>pickupDay</th>\n",
       "      <th>pickupHour</th>\n",
       "      <th>weekDay</th>\n",
       "      <th>N</th>\n",
       "      <th>Y</th>\n",
       "      <th>1</th>\n",
       "      <th>2</th>\n",
       "      <th>distance</th>\n",
       "      <th>direction</th>\n",
       "    </tr>\n",
       "  </thead>\n",
       "  <tbody>\n",
       "    <tr>\n",
       "      <th>888850</th>\n",
       "      <td>1</td>\n",
       "      <td>-73.979073</td>\n",
       "      <td>40.777458</td>\n",
       "      <td>-73.953056</td>\n",
       "      <td>40.766506</td>\n",
       "      <td>29</td>\n",
       "      <td>20</td>\n",
       "      <td>0</td>\n",
       "      <td>1</td>\n",
       "      <td>0</td>\n",
       "      <td>1</td>\n",
       "      <td>0</td>\n",
       "      <td>2.506536</td>\n",
       "      <td>119.059836</td>\n",
       "    </tr>\n",
       "    <tr>\n",
       "      <th>1065052</th>\n",
       "      <td>1</td>\n",
       "      <td>-73.976974</td>\n",
       "      <td>40.784931</td>\n",
       "      <td>-73.957542</td>\n",
       "      <td>40.761757</td>\n",
       "      <td>16</td>\n",
       "      <td>5</td>\n",
       "      <td>1</td>\n",
       "      <td>1</td>\n",
       "      <td>0</td>\n",
       "      <td>1</td>\n",
       "      <td>0</td>\n",
       "      <td>3.052508</td>\n",
       "      <td>147.577731</td>\n",
       "    </tr>\n",
       "    <tr>\n",
       "      <th>373572</th>\n",
       "      <td>2</td>\n",
       "      <td>-73.958107</td>\n",
       "      <td>40.772991</td>\n",
       "      <td>-73.957436</td>\n",
       "      <td>40.780270</td>\n",
       "      <td>31</td>\n",
       "      <td>15</td>\n",
       "      <td>1</td>\n",
       "      <td>1</td>\n",
       "      <td>0</td>\n",
       "      <td>0</td>\n",
       "      <td>1</td>\n",
       "      <td>0.811298</td>\n",
       "      <td>3.995527</td>\n",
       "    </tr>\n",
       "    <tr>\n",
       "      <th>1295295</th>\n",
       "      <td>6</td>\n",
       "      <td>-73.958000</td>\n",
       "      <td>40.710899</td>\n",
       "      <td>-73.961960</td>\n",
       "      <td>40.720119</td>\n",
       "      <td>29</td>\n",
       "      <td>20</td>\n",
       "      <td>0</td>\n",
       "      <td>1</td>\n",
       "      <td>0</td>\n",
       "      <td>0</td>\n",
       "      <td>1</td>\n",
       "      <td>1.078179</td>\n",
       "      <td>-18.029349</td>\n",
       "    </tr>\n",
       "    <tr>\n",
       "      <th>498869</th>\n",
       "      <td>1</td>\n",
       "      <td>-74.003975</td>\n",
       "      <td>40.732937</td>\n",
       "      <td>-73.982780</td>\n",
       "      <td>40.778217</td>\n",
       "      <td>8</td>\n",
       "      <td>22</td>\n",
       "      <td>4</td>\n",
       "      <td>1</td>\n",
       "      <td>0</td>\n",
       "      <td>1</td>\n",
       "      <td>0</td>\n",
       "      <td>5.342077</td>\n",
       "      <td>19.515771</td>\n",
       "    </tr>\n",
       "  </tbody>\n",
       "</table>\n",
       "</div>"
      ],
      "text/plain": [
       "         passenger_count  pickup_longitude  pickup_latitude  \\\n",
       "888850                 1        -73.979073        40.777458   \n",
       "1065052                1        -73.976974        40.784931   \n",
       "373572                 2        -73.958107        40.772991   \n",
       "1295295                6        -73.958000        40.710899   \n",
       "498869                 1        -74.003975        40.732937   \n",
       "\n",
       "         dropoff_longitude  dropoff_latitude  pickupDay  pickupHour  weekDay  \\\n",
       "888850          -73.953056         40.766506         29          20        0   \n",
       "1065052         -73.957542         40.761757         16           5        1   \n",
       "373572          -73.957436         40.780270         31          15        1   \n",
       "1295295         -73.961960         40.720119         29          20        0   \n",
       "498869          -73.982780         40.778217          8          22        4   \n",
       "\n",
       "         N  Y  1  2  distance   direction  \n",
       "888850   1  0  1  0  2.506536  119.059836  \n",
       "1065052  1  0  1  0  3.052508  147.577731  \n",
       "373572   1  0  0  1  0.811298    3.995527  \n",
       "1295295  1  0  0  1  1.078179  -18.029349  \n",
       "498869   1  0  1  0  5.342077   19.515771  "
      ]
     },
     "execution_count": 25,
     "metadata": {},
     "output_type": "execute_result"
    }
   ],
   "source": [
    "X_train.head(5)"
   ]
  },
  {
   "cell_type": "code",
   "execution_count": 28,
   "id": "8cbd43d2",
   "metadata": {},
   "outputs": [
    {
     "name": "stdout",
     "output_type": "stream",
     "text": [
      "0.7368199714801025 0.7363079033963196\n",
      "0.4101876896975499\n"
     ]
    }
   ],
   "source": [
    "#lightGBM\n",
    "import lightgbm as lgb\n",
    "from lightgbm import LGBMRegressor\n",
    "\n",
    "lgbm = lgb.LGBMRegressor()\n",
    "lgbm.fit(X_train, y_train)\n",
    "print(lgbm.score(X_train, y_train), lgbm.score(X_valid, y_valid))\n",
    "print(np.sqrt(MSE(y_valid, lgbm.predict(X_valid))))"
   ]
  },
  {
   "cell_type": "code",
   "execution_count": 30,
   "id": "9e8b1b74",
   "metadata": {},
   "outputs": [
    {
     "name": "stdout",
     "output_type": "stream",
     "text": [
      "[LightGBM] [Warning] Auto-choosing row-wise multi-threading, the overhead of testing was 0.210881 seconds.\n",
      "You can set `force_row_wise=true` to remove the overhead.\n",
      "And if memory is not enough, you can set `force_col_wise=true`.\n",
      "[LightGBM] [Info] Total Bins 6078\n",
      "[LightGBM] [Info] Number of data points in the train set: 1166904, number of used features: 14\n",
      "[LightGBM] [Warning] Auto-choosing row-wise multi-threading, the overhead of testing was 0.173290 seconds.\n",
      "You can set `force_row_wise=true` to remove the overhead.\n",
      "And if memory is not enough, you can set `force_col_wise=true`.\n",
      "[LightGBM] [Info] Total Bins 6078\n",
      "[LightGBM] [Info] Number of data points in the train set: 1166904, number of used features: 14\n",
      "[LightGBM] [Warning] Auto-choosing row-wise multi-threading, the overhead of testing was 0.225502 seconds.\n",
      "You can set `force_row_wise=true` to remove the overhead.\n",
      "And if memory is not enough, you can set `force_col_wise=true`.\n",
      "[LightGBM] [Info] Total Bins 6078\n",
      "[LightGBM] [Info] Number of data points in the train set: 1166904, number of used features: 14\n",
      "[LightGBM] [Warning] Auto-choosing row-wise multi-threading, the overhead of testing was 0.672841 seconds.\n",
      "You can set `force_row_wise=true` to remove the overhead.\n",
      "And if memory is not enough, you can set `force_col_wise=true`.\n",
      "[LightGBM] [Info] Total Bins 6078\n",
      "[LightGBM] [Info] Number of data points in the train set: 1166904, number of used features: 14\n",
      "[LightGBM] [Warning] Auto-choosing row-wise multi-threading, the overhead of testing was 0.204993 seconds.\n",
      "You can set `force_row_wise=true` to remove the overhead.\n",
      "And if memory is not enough, you can set `force_col_wise=true`.\n",
      "[LightGBM] [Info] Total Bins 6078\n",
      "[LightGBM] [Info] Number of data points in the train set: 1166904, number of used features: 14\n",
      "[LightGBM] [Info] Start training from score 2.370441\n",
      "[LightGBM] [Info] Start training from score 2.370270\n",
      "[LightGBM] [Info] Start training from score 2.370135\n",
      "[LightGBM] [Info] Start training from score 2.370029\n",
      "[LightGBM] [Info] Start training from score 2.370011\n",
      "[0.73526054 0.73688231 0.73253871 0.73687363 0.73349222]\n",
      "0.7350094811284602\n"
     ]
    }
   ],
   "source": [
    "# Cross-validation on LightGBM model --------------------------\n",
    "lgb_df = lgb.Dataset(X, y)\n",
    "lgb_params = {\n",
    "    'metric' : 'rmse',\n",
    "    'learning_rate': 0.1,\n",
    "    'max_depth': 25,\n",
    "    'num_leaves': 1000, \n",
    "    'objective': 'regression',\n",
    "    'feature_fraction': 0.9,\n",
    "    'bagging_fraction': 0.5,\n",
    "    'max_bin': 1000 }\n",
    "\n",
    "lgb.cv(lgb_params, lgb_df, stratified=False) #False is needed as it only works with classification\n",
    "\n",
    "# Cross-validation on LightGBM model (sklearn API) ------------\n",
    "from sklearn.model_selection import cross_val_score\n",
    "\n",
    "cv_score = cross_val_score(lgbm, X, y, cv=5)\n",
    "print(cv_score)\n",
    "print(np.mean(cv_score))\n"
   ]
  },
  {
   "cell_type": "code",
   "execution_count": 39,
   "id": "80e8064d",
   "metadata": {},
   "outputs": [
    {
     "name": "stdout",
     "output_type": "stream",
     "text": [
      "Fitting 3 folds for each of 100 candidates, totalling 300 fits\n",
      "[LightGBM] [Warning] Unknown parameter: max_features\n",
      "[LightGBM] [Warning] Unknown parameter: min_samples_leaf\n",
      "[LightGBM] [Warning] Unknown parameter: bootstrap\n",
      "[LightGBM] [Warning] Unknown parameter: min_samples_split\n",
      "[LightGBM] [Warning] Accuracy may be bad since you didn't explicitly set num_leaves OR 2^max_depth > num_leaves. (num_leaves=31).\n"
     ]
    }
   ],
   "source": [
    "#Hyperparameters tuning using RandomizedSearchCV\n",
    "from sklearn.model_selection import RandomizedSearchCV\n",
    "\n",
    "random_grid={\n",
    "'n_estimators' : [int(x) for x in np.linspace(start = 5, stop = 20, num = 16)],\n",
    "'max_features' : ['auto', 'sqrt'],\n",
    "'max_depth' : [int(x) for x in np.linspace(10, 110, num = 11)],\n",
    "'min_samples_split' : [2, 5, 10],\n",
    "'min_samples_leaf' : [1, 2, 4],\n",
    "'bootstrap' : [True, False]\n",
    "}\n",
    "# random_grid = {'n_estimators': n_estimators, 'max_features': max_features, 'max_depth': max_depth, 'min_samples_split': min_samples_split, 'min_samples_leaf': min_samples_leaf, 'bootstrap': bootstrap}\n",
    "\n",
    "random_cv = RandomizedSearchCV(estimator=lgbm, param_distributions = random_grid, n_iter = 100, cv = 3, verbose=2, random_state=42, n_jobs = -1)\n",
    "random_cv.fit(X_train, y_train)\n",
    "best_params = random_cv.best_params_"
   ]
  },
  {
   "cell_type": "code",
   "execution_count": 40,
   "id": "fe4b771b",
   "metadata": {},
   "outputs": [
    {
     "data": {
      "text/plain": [
       "{'n_estimators': 20,\n",
       " 'min_samples_split': 2,\n",
       " 'min_samples_leaf': 4,\n",
       " 'max_features': 'auto',\n",
       " 'max_depth': 50,\n",
       " 'bootstrap': False}"
      ]
     },
     "execution_count": 40,
     "metadata": {},
     "output_type": "execute_result"
    }
   ],
   "source": [
    "best_params"
   ]
  },
  {
   "cell_type": "code",
   "execution_count": 41,
   "id": "8050c59b",
   "metadata": {},
   "outputs": [
    {
     "name": "stdout",
     "output_type": "stream",
     "text": [
      "[LightGBM] [Warning] Auto-choosing row-wise multi-threading, the overhead of testing was 0.048235 seconds.\n",
      "You can set `force_row_wise=true` to remove the overhead.\n",
      "And if memory is not enough, you can set `force_col_wise=true`.\n",
      "[LightGBM] [Info] Total Bins 6079\n",
      "[LightGBM] [Info] Number of data points in the train set: 1166905, number of used features: 14\n",
      "[LightGBM] [Info] Start training from score 2.370413\n",
      "[1]\ttraining's rmse: 0.743851\tvalid_1's rmse: 0.743256\n",
      "Training until validation scores don't improve for 5 rounds\n",
      "[2]\ttraining's rmse: 0.69498\tvalid_1's rmse: 0.694772\n",
      "[3]\ttraining's rmse: 0.652706\tvalid_1's rmse: 0.652995\n",
      "[4]\ttraining's rmse: 0.615598\tvalid_1's rmse: 0.616397\n",
      "[5]\ttraining's rmse: 0.583534\tvalid_1's rmse: 0.584821\n",
      "[6]\ttraining's rmse: 0.555813\tvalid_1's rmse: 0.557716\n",
      "[7]\ttraining's rmse: 0.532766\tvalid_1's rmse: 0.535278\n",
      "[8]\ttraining's rmse: 0.512073\tvalid_1's rmse: 0.515317\n",
      "[9]\ttraining's rmse: 0.494324\tvalid_1's rmse: 0.498304\n",
      "[10]\ttraining's rmse: 0.479398\tvalid_1's rmse: 0.484121\n",
      "[11]\ttraining's rmse: 0.46626\tvalid_1's rmse: 0.471671\n",
      "[12]\ttraining's rmse: 0.455067\tvalid_1's rmse: 0.461192\n",
      "[13]\ttraining's rmse: 0.445405\tvalid_1's rmse: 0.452352\n",
      "[14]\ttraining's rmse: 0.43712\tvalid_1's rmse: 0.444814\n",
      "[15]\ttraining's rmse: 0.429972\tvalid_1's rmse: 0.43844\n",
      "[16]\ttraining's rmse: 0.423904\tvalid_1's rmse: 0.433082\n",
      "[17]\ttraining's rmse: 0.418568\tvalid_1's rmse: 0.428476\n",
      "[18]\ttraining's rmse: 0.413978\tvalid_1's rmse: 0.42459\n",
      "[19]\ttraining's rmse: 0.409939\tvalid_1's rmse: 0.421246\n",
      "[20]\ttraining's rmse: 0.406336\tvalid_1's rmse: 0.418372\n",
      "[21]\ttraining's rmse: 0.403193\tvalid_1's rmse: 0.415875\n",
      "[22]\ttraining's rmse: 0.400272\tvalid_1's rmse: 0.413594\n",
      "[23]\ttraining's rmse: 0.397555\tvalid_1's rmse: 0.411473\n",
      "[24]\ttraining's rmse: 0.395301\tvalid_1's rmse: 0.409973\n",
      "[25]\ttraining's rmse: 0.393224\tvalid_1's rmse: 0.408594\n",
      "[26]\ttraining's rmse: 0.391158\tvalid_1's rmse: 0.407322\n",
      "[27]\ttraining's rmse: 0.389464\tvalid_1's rmse: 0.406194\n",
      "[28]\ttraining's rmse: 0.387716\tvalid_1's rmse: 0.405066\n",
      "[29]\ttraining's rmse: 0.386151\tvalid_1's rmse: 0.404094\n",
      "[30]\ttraining's rmse: 0.384862\tvalid_1's rmse: 0.403394\n",
      "[31]\ttraining's rmse: 0.383329\tvalid_1's rmse: 0.402405\n",
      "[32]\ttraining's rmse: 0.382101\tvalid_1's rmse: 0.401757\n",
      "[33]\ttraining's rmse: 0.380798\tvalid_1's rmse: 0.400983\n",
      "[34]\ttraining's rmse: 0.379659\tvalid_1's rmse: 0.400402\n",
      "[35]\ttraining's rmse: 0.378465\tvalid_1's rmse: 0.39993\n",
      "[36]\ttraining's rmse: 0.377533\tvalid_1's rmse: 0.399499\n",
      "[37]\ttraining's rmse: 0.37649\tvalid_1's rmse: 0.399144\n",
      "[38]\ttraining's rmse: 0.375557\tvalid_1's rmse: 0.398741\n",
      "[39]\ttraining's rmse: 0.374485\tvalid_1's rmse: 0.398197\n",
      "[40]\ttraining's rmse: 0.373578\tvalid_1's rmse: 0.397876\n",
      "[41]\ttraining's rmse: 0.372632\tvalid_1's rmse: 0.397571\n",
      "[42]\ttraining's rmse: 0.371883\tvalid_1's rmse: 0.397251\n",
      "[43]\ttraining's rmse: 0.371042\tvalid_1's rmse: 0.396919\n",
      "[44]\ttraining's rmse: 0.370061\tvalid_1's rmse: 0.396467\n",
      "[45]\ttraining's rmse: 0.36939\tvalid_1's rmse: 0.396231\n",
      "[46]\ttraining's rmse: 0.368382\tvalid_1's rmse: 0.395679\n",
      "[47]\ttraining's rmse: 0.367385\tvalid_1's rmse: 0.395162\n",
      "[48]\ttraining's rmse: 0.366581\tvalid_1's rmse: 0.394822\n",
      "[49]\ttraining's rmse: 0.365947\tvalid_1's rmse: 0.394571\n",
      "[50]\ttraining's rmse: 0.365109\tvalid_1's rmse: 0.394256\n",
      "[51]\ttraining's rmse: 0.364418\tvalid_1's rmse: 0.394001\n",
      "[52]\ttraining's rmse: 0.363517\tvalid_1's rmse: 0.393551\n",
      "[53]\ttraining's rmse: 0.362742\tvalid_1's rmse: 0.393365\n",
      "[54]\ttraining's rmse: 0.362053\tvalid_1's rmse: 0.393272\n",
      "[55]\ttraining's rmse: 0.361171\tvalid_1's rmse: 0.392826\n",
      "[56]\ttraining's rmse: 0.3605\tvalid_1's rmse: 0.39257\n",
      "[57]\ttraining's rmse: 0.359661\tvalid_1's rmse: 0.392115\n",
      "[58]\ttraining's rmse: 0.358916\tvalid_1's rmse: 0.391877\n",
      "[59]\ttraining's rmse: 0.358399\tvalid_1's rmse: 0.391838\n",
      "[60]\ttraining's rmse: 0.357646\tvalid_1's rmse: 0.39163\n",
      "[61]\ttraining's rmse: 0.356913\tvalid_1's rmse: 0.391294\n",
      "[62]\ttraining's rmse: 0.356188\tvalid_1's rmse: 0.390842\n",
      "[63]\ttraining's rmse: 0.355691\tvalid_1's rmse: 0.390778\n",
      "[64]\ttraining's rmse: 0.355011\tvalid_1's rmse: 0.390495\n",
      "[65]\ttraining's rmse: 0.354421\tvalid_1's rmse: 0.390316\n",
      "[66]\ttraining's rmse: 0.353904\tvalid_1's rmse: 0.39028\n",
      "[67]\ttraining's rmse: 0.353206\tvalid_1's rmse: 0.390007\n",
      "[68]\ttraining's rmse: 0.352509\tvalid_1's rmse: 0.389759\n",
      "[69]\ttraining's rmse: 0.351893\tvalid_1's rmse: 0.389493\n",
      "[70]\ttraining's rmse: 0.351441\tvalid_1's rmse: 0.389381\n",
      "[71]\ttraining's rmse: 0.350839\tvalid_1's rmse: 0.389178\n",
      "[72]\ttraining's rmse: 0.350199\tvalid_1's rmse: 0.388936\n",
      "[73]\ttraining's rmse: 0.349535\tvalid_1's rmse: 0.388621\n",
      "[74]\ttraining's rmse: 0.348915\tvalid_1's rmse: 0.388431\n",
      "[75]\ttraining's rmse: 0.348372\tvalid_1's rmse: 0.388188\n",
      "[76]\ttraining's rmse: 0.347718\tvalid_1's rmse: 0.387954\n",
      "[77]\ttraining's rmse: 0.347165\tvalid_1's rmse: 0.387772\n",
      "[78]\ttraining's rmse: 0.346551\tvalid_1's rmse: 0.387566\n",
      "[79]\ttraining's rmse: 0.346024\tvalid_1's rmse: 0.38745\n",
      "[80]\ttraining's rmse: 0.345587\tvalid_1's rmse: 0.387392\n",
      "[81]\ttraining's rmse: 0.345044\tvalid_1's rmse: 0.387256\n",
      "[82]\ttraining's rmse: 0.34463\tvalid_1's rmse: 0.38725\n",
      "[83]\ttraining's rmse: 0.344112\tvalid_1's rmse: 0.387085\n",
      "[84]\ttraining's rmse: 0.343559\tvalid_1's rmse: 0.386932\n",
      "[85]\ttraining's rmse: 0.343145\tvalid_1's rmse: 0.386872\n",
      "[86]\ttraining's rmse: 0.342697\tvalid_1's rmse: 0.386851\n",
      "[87]\ttraining's rmse: 0.342133\tvalid_1's rmse: 0.386713\n",
      "[88]\ttraining's rmse: 0.341651\tvalid_1's rmse: 0.386558\n",
      "[89]\ttraining's rmse: 0.341211\tvalid_1's rmse: 0.386405\n",
      "[90]\ttraining's rmse: 0.340695\tvalid_1's rmse: 0.386283\n",
      "[91]\ttraining's rmse: 0.340329\tvalid_1's rmse: 0.386174\n",
      "[92]\ttraining's rmse: 0.339984\tvalid_1's rmse: 0.386094\n",
      "[93]\ttraining's rmse: 0.339666\tvalid_1's rmse: 0.386099\n",
      "[94]\ttraining's rmse: 0.339294\tvalid_1's rmse: 0.386037\n",
      "[95]\ttraining's rmse: 0.338787\tvalid_1's rmse: 0.385768\n",
      "[96]\ttraining's rmse: 0.338432\tvalid_1's rmse: 0.385727\n",
      "[97]\ttraining's rmse: 0.337913\tvalid_1's rmse: 0.385522\n",
      "[98]\ttraining's rmse: 0.337558\tvalid_1's rmse: 0.385417\n",
      "[99]\ttraining's rmse: 0.337211\tvalid_1's rmse: 0.385384\n",
      "[100]\ttraining's rmse: 0.336837\tvalid_1's rmse: 0.385227\n",
      "[101]\ttraining's rmse: 0.336499\tvalid_1's rmse: 0.385144\n",
      "[102]\ttraining's rmse: 0.336146\tvalid_1's rmse: 0.38511\n",
      "[103]\ttraining's rmse: 0.335817\tvalid_1's rmse: 0.385011\n",
      "[104]\ttraining's rmse: 0.33553\tvalid_1's rmse: 0.385006\n",
      "[105]\ttraining's rmse: 0.335224\tvalid_1's rmse: 0.384951\n",
      "[106]\ttraining's rmse: 0.334875\tvalid_1's rmse: 0.384867\n",
      "[107]\ttraining's rmse: 0.334586\tvalid_1's rmse: 0.384811\n",
      "[108]\ttraining's rmse: 0.334288\tvalid_1's rmse: 0.384784\n",
      "[109]\ttraining's rmse: 0.334014\tvalid_1's rmse: 0.384756\n",
      "[110]\ttraining's rmse: 0.333754\tvalid_1's rmse: 0.384724\n",
      "[111]\ttraining's rmse: 0.333421\tvalid_1's rmse: 0.384673\n",
      "[112]\ttraining's rmse: 0.333095\tvalid_1's rmse: 0.384673\n",
      "[113]\ttraining's rmse: 0.332815\tvalid_1's rmse: 0.384636\n",
      "[114]\ttraining's rmse: 0.332536\tvalid_1's rmse: 0.384597\n",
      "[115]\ttraining's rmse: 0.332221\tvalid_1's rmse: 0.384523\n",
      "[116]\ttraining's rmse: 0.33195\tvalid_1's rmse: 0.384536\n",
      "[117]\ttraining's rmse: 0.331453\tvalid_1's rmse: 0.384377\n",
      "[118]\ttraining's rmse: 0.331175\tvalid_1's rmse: 0.384306\n",
      "[119]\ttraining's rmse: 0.330911\tvalid_1's rmse: 0.384324\n",
      "[120]\ttraining's rmse: 0.330658\tvalid_1's rmse: 0.384308\n",
      "[121]\ttraining's rmse: 0.330355\tvalid_1's rmse: 0.384261\n",
      "[122]\ttraining's rmse: 0.330018\tvalid_1's rmse: 0.384263\n",
      "[123]\ttraining's rmse: 0.329743\tvalid_1's rmse: 0.384236\n",
      "[124]\ttraining's rmse: 0.329437\tvalid_1's rmse: 0.384259\n",
      "[125]\ttraining's rmse: 0.329188\tvalid_1's rmse: 0.384246\n",
      "[126]\ttraining's rmse: 0.328937\tvalid_1's rmse: 0.384238\n",
      "[127]\ttraining's rmse: 0.328713\tvalid_1's rmse: 0.384191\n",
      "[128]\ttraining's rmse: 0.328484\tvalid_1's rmse: 0.384185\n",
      "[129]\ttraining's rmse: 0.328205\tvalid_1's rmse: 0.38419\n",
      "[130]\ttraining's rmse: 0.327963\tvalid_1's rmse: 0.384179\n",
      "[131]\ttraining's rmse: 0.327692\tvalid_1's rmse: 0.384154\n",
      "[132]\ttraining's rmse: 0.327459\tvalid_1's rmse: 0.384158\n",
      "[133]\ttraining's rmse: 0.32728\tvalid_1's rmse: 0.384137\n",
      "[134]\ttraining's rmse: 0.327065\tvalid_1's rmse: 0.384139\n",
      "[135]\ttraining's rmse: 0.326814\tvalid_1's rmse: 0.384092\n",
      "[136]\ttraining's rmse: 0.326584\tvalid_1's rmse: 0.384078\n",
      "[137]\ttraining's rmse: 0.326355\tvalid_1's rmse: 0.38407\n",
      "[138]\ttraining's rmse: 0.326167\tvalid_1's rmse: 0.384071\n",
      "[139]\ttraining's rmse: 0.325966\tvalid_1's rmse: 0.38405\n",
      "[140]\ttraining's rmse: 0.325733\tvalid_1's rmse: 0.384035\n",
      "[141]\ttraining's rmse: 0.325569\tvalid_1's rmse: 0.384034\n",
      "[142]\ttraining's rmse: 0.325352\tvalid_1's rmse: 0.383988\n",
      "[143]\ttraining's rmse: 0.325186\tvalid_1's rmse: 0.383981\n",
      "[144]\ttraining's rmse: 0.325006\tvalid_1's rmse: 0.383974\n",
      "[145]\ttraining's rmse: 0.32482\tvalid_1's rmse: 0.383954\n",
      "[146]\ttraining's rmse: 0.32459\tvalid_1's rmse: 0.383958\n",
      "[147]\ttraining's rmse: 0.324352\tvalid_1's rmse: 0.383971\n",
      "[148]\ttraining's rmse: 0.324135\tvalid_1's rmse: 0.383949\n",
      "[149]\ttraining's rmse: 0.323852\tvalid_1's rmse: 0.383926\n",
      "[150]\ttraining's rmse: 0.323516\tvalid_1's rmse: 0.383805\n",
      "[151]\ttraining's rmse: 0.323278\tvalid_1's rmse: 0.383781\n",
      "[152]\ttraining's rmse: 0.323045\tvalid_1's rmse: 0.383743\n",
      "[153]\ttraining's rmse: 0.32276\tvalid_1's rmse: 0.383695\n",
      "[154]\ttraining's rmse: 0.322532\tvalid_1's rmse: 0.3837\n",
      "[155]\ttraining's rmse: 0.322341\tvalid_1's rmse: 0.383704\n",
      "[156]\ttraining's rmse: 0.32215\tvalid_1's rmse: 0.383696\n",
      "[157]\ttraining's rmse: 0.321797\tvalid_1's rmse: 0.383598\n",
      "[158]\ttraining's rmse: 0.321611\tvalid_1's rmse: 0.383557\n",
      "[159]\ttraining's rmse: 0.321421\tvalid_1's rmse: 0.383549\n",
      "[160]\ttraining's rmse: 0.321146\tvalid_1's rmse: 0.383546\n",
      "[161]\ttraining's rmse: 0.320939\tvalid_1's rmse: 0.383521\n",
      "[162]\ttraining's rmse: 0.320656\tvalid_1's rmse: 0.383537\n",
      "[163]\ttraining's rmse: 0.32038\tvalid_1's rmse: 0.383547\n",
      "[164]\ttraining's rmse: 0.320207\tvalid_1's rmse: 0.383537\n",
      "[165]\ttraining's rmse: 0.319982\tvalid_1's rmse: 0.383526\n",
      "[166]\ttraining's rmse: 0.319783\tvalid_1's rmse: 0.383514\n",
      "[167]\ttraining's rmse: 0.319574\tvalid_1's rmse: 0.383499\n",
      "[168]\ttraining's rmse: 0.319362\tvalid_1's rmse: 0.383505\n",
      "[169]\ttraining's rmse: 0.319153\tvalid_1's rmse: 0.383509\n",
      "[170]\ttraining's rmse: 0.318955\tvalid_1's rmse: 0.383525\n",
      "[171]\ttraining's rmse: 0.318769\tvalid_1's rmse: 0.383529\n",
      "[172]\ttraining's rmse: 0.318486\tvalid_1's rmse: 0.3835\n",
      "Early stopping, best iteration is:\n",
      "[167]\ttraining's rmse: 0.319574\tvalid_1's rmse: 0.383499\n"
     ]
    }
   ],
   "source": [
    "#Test the following parameters\n",
    "lgb_params = {\n",
    "    'metric' : 'rmse',\n",
    "    'learning_rate': 0.1,\n",
    "    'max_depth': 25,\n",
    "    'num_leaves': 1000, \n",
    "    'objective': 'regression',\n",
    "    'feature_fraction': 0.9,\n",
    "    'bagging_fraction': 0.5,\n",
    "    'max_bin': 1000 }\n",
    "\n",
    "lgb_train = lgb.Dataset(X_train, y_train)\n",
    "lgb_valid = lgb.Dataset(X_valid, y_valid)\n",
    "lgb_model = lgb.train(lgb_params, lgb_train, num_boost_round=1500, valid_sets=[lgb_train, lgb_valid], early_stopping_rounds=5)"
   ]
  },
  {
   "cell_type": "code",
   "execution_count": 42,
   "id": "d94bc7de",
   "metadata": {},
   "outputs": [
    {
     "data": {
      "text/plain": [
       "LGBMRegressor(max_depth=25, n_estimators=500, num_leaves=1000,\n",
       "              objective='regression')"
      ]
     },
     "execution_count": 42,
     "metadata": {},
     "output_type": "execute_result"
    }
   ],
   "source": [
    "#%%time\n",
    "# Training on all labeled data using the best parameters (sklearn API version)\n",
    "from lightgbm import LGBMRegressor\n",
    "\n",
    "lgbm = lgb.LGBMRegressor(n_estimators=500, num_leaves=1000, max_depth=25, objective='regression')\n",
    "lgbm.fit(X, y)"
   ]
  },
  {
   "cell_type": "code",
   "execution_count": 43,
   "id": "1abb7c87",
   "metadata": {},
   "outputs": [
    {
     "name": "stdout",
     "output_type": "stream",
     "text": [
      "[LightGBM] [Warning] Auto-choosing row-wise multi-threading, the overhead of testing was 0.163584 seconds.\n",
      "You can set `force_row_wise=true` to remove the overhead.\n",
      "And if memory is not enough, you can set `force_col_wise=true`.\n",
      "[LightGBM] [Info] Total Bins 6078\n",
      "[LightGBM] [Info] Number of data points in the train set: 1458632, number of used features: 14\n",
      "[LightGBM] [Info] Start training from score 2.370177\n"
     ]
    }
   ],
   "source": [
    "#Training on all labeled data using the best parameters\n",
    "lgb_df = lgb.Dataset(X, y)\n",
    "lgb_model = lgb.train(lgb_params, lgb_df, num_boost_round=1500)"
   ]
  },
  {
   "cell_type": "code",
   "execution_count": 44,
   "id": "b76db07a",
   "metadata": {},
   "outputs": [],
   "source": [
    "#Make predictions on test data frame\n",
    "test_columns = X.columns\n",
    "predictions = lgb_model.predict(test[test_columns])"
   ]
  },
  {
   "cell_type": "code",
   "execution_count": 45,
   "id": "acf8a7bf",
   "metadata": {},
   "outputs": [
    {
     "data": {
      "text/html": [
       "<div>\n",
       "<style scoped>\n",
       "    .dataframe tbody tr th:only-of-type {\n",
       "        vertical-align: middle;\n",
       "    }\n",
       "\n",
       "    .dataframe tbody tr th {\n",
       "        vertical-align: top;\n",
       "    }\n",
       "\n",
       "    .dataframe thead th {\n",
       "        text-align: right;\n",
       "    }\n",
       "</style>\n",
       "<table border=\"1\" class=\"dataframe\">\n",
       "  <thead>\n",
       "    <tr style=\"text-align: right;\">\n",
       "      <th></th>\n",
       "      <th>id</th>\n",
       "      <th>trip_duration</th>\n",
       "    </tr>\n",
       "  </thead>\n",
       "  <tbody>\n",
       "    <tr>\n",
       "      <th>0</th>\n",
       "      <td>id3004672</td>\n",
       "      <td>11.526100</td>\n",
       "    </tr>\n",
       "    <tr>\n",
       "      <th>1</th>\n",
       "      <td>id3505355</td>\n",
       "      <td>9.049309</td>\n",
       "    </tr>\n",
       "    <tr>\n",
       "      <th>2</th>\n",
       "      <td>id1217141</td>\n",
       "      <td>6.893359</td>\n",
       "    </tr>\n",
       "    <tr>\n",
       "      <th>3</th>\n",
       "      <td>id2150126</td>\n",
       "      <td>15.522477</td>\n",
       "    </tr>\n",
       "    <tr>\n",
       "      <th>4</th>\n",
       "      <td>id1598245</td>\n",
       "      <td>6.196707</td>\n",
       "    </tr>\n",
       "  </tbody>\n",
       "</table>\n",
       "</div>"
      ],
      "text/plain": [
       "          id  trip_duration\n",
       "0  id3004672      11.526100\n",
       "1  id3505355       9.049309\n",
       "2  id1217141       6.893359\n",
       "3  id2150126      15.522477\n",
       "4  id1598245       6.196707"
      ]
     },
     "execution_count": 45,
     "metadata": {},
     "output_type": "execute_result"
    }
   ],
   "source": [
    "#Create a data frame designed a submission on Kaggle\n",
    "submission = pd.DataFrame({'id': test.id, 'trip_duration': np.exp(predictions)})\n",
    "submission.head()"
   ]
  },
  {
   "cell_type": "code",
   "execution_count": null,
   "id": "e7e9ba70",
   "metadata": {},
   "outputs": [],
   "source": []
  }
 ],
 "metadata": {
  "kernelspec": {
   "display_name": "Python 3",
   "language": "python",
   "name": "python3"
  },
  "language_info": {
   "codemirror_mode": {
    "name": "ipython",
    "version": 3
   },
   "file_extension": ".py",
   "mimetype": "text/x-python",
   "name": "python",
   "nbconvert_exporter": "python",
   "pygments_lexer": "ipython3",
   "version": "3.8.5"
  }
 },
 "nbformat": 4,
 "nbformat_minor": 5
}
